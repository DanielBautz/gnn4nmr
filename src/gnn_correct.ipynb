{
  "nbformat": 4,
  "nbformat_minor": 0,
  "metadata": {
    "colab": {
      "provenance": [],
      "toc_visible": true,
      "authorship_tag": "ABX9TyMpuiPH8SU0CccDa5czCQjx",
      "include_colab_link": true
    },
    "kernelspec": {
      "name": "python3",
      "display_name": "Python 3"
    },
    "language_info": {
      "name": "python"
    }
  },
  "cells": [
    {
      "cell_type": "markdown",
      "metadata": {
        "id": "view-in-github",
        "colab_type": "text"
      },
      "source": [
        "<a href=\"https://colab.research.google.com/github/DanielBautz/gnn4nmr/blob/main/src/gnn_correct.ipynb\" target=\"_parent\"><img src=\"https://colab.research.google.com/assets/colab-badge.svg\" alt=\"Open In Colab\"/></a>"
      ]
    },
    {
      "cell_type": "markdown",
      "metadata": {
        "id": "P71LFoxwYwh5"
      },
      "source": [
        "# GNN"
      ]
    },
    {
      "cell_type": "code",
      "execution_count": null,
      "metadata": {
        "id": "0LvC_hUuY7qu",
        "colab": {
          "base_uri": "https://localhost:8080/"
        },
        "outputId": "abff2905-a3d4-42a6-af0f-36006c5ddcb8",
        "collapsed": true
      },
      "outputs": [
        {
          "output_type": "stream",
          "name": "stdout",
          "text": [
            "Collecting torch_geometric\n",
            "  Downloading torch_geometric-2.6.1-py3-none-any.whl.metadata (63 kB)\n",
            "\u001b[?25l     \u001b[90m━━━━━━━━━━━━━━━━━━━━━━━━━━━━━━━━━━━━━━━━\u001b[0m \u001b[32m0.0/63.1 kB\u001b[0m \u001b[31m?\u001b[0m eta \u001b[36m-:--:--\u001b[0m\r\u001b[2K     \u001b[90m━━━━━━━━━━━━━━━━━━━━━━━━━━━━━━━━━━━━━━━━\u001b[0m \u001b[32m63.1/63.1 kB\u001b[0m \u001b[31m5.7 MB/s\u001b[0m eta \u001b[36m0:00:00\u001b[0m\n",
            "\u001b[?25hRequirement already satisfied: aiohttp in /usr/local/lib/python3.10/dist-packages (from torch_geometric) (3.11.1)\n",
            "Requirement already satisfied: fsspec in /usr/local/lib/python3.10/dist-packages (from torch_geometric) (2024.10.0)\n",
            "Requirement already satisfied: jinja2 in /usr/local/lib/python3.10/dist-packages (from torch_geometric) (3.1.4)\n",
            "Requirement already satisfied: numpy in /usr/local/lib/python3.10/dist-packages (from torch_geometric) (1.26.4)\n",
            "Requirement already satisfied: psutil>=5.8.0 in /usr/local/lib/python3.10/dist-packages (from torch_geometric) (5.9.5)\n",
            "Requirement already satisfied: pyparsing in /usr/local/lib/python3.10/dist-packages (from torch_geometric) (3.2.0)\n",
            "Requirement already satisfied: requests in /usr/local/lib/python3.10/dist-packages (from torch_geometric) (2.32.3)\n",
            "Requirement already satisfied: tqdm in /usr/local/lib/python3.10/dist-packages (from torch_geometric) (4.66.6)\n",
            "Requirement already satisfied: aiohappyeyeballs>=2.3.0 in /usr/local/lib/python3.10/dist-packages (from aiohttp->torch_geometric) (2.4.3)\n",
            "Requirement already satisfied: aiosignal>=1.1.2 in /usr/local/lib/python3.10/dist-packages (from aiohttp->torch_geometric) (1.3.1)\n",
            "Requirement already satisfied: attrs>=17.3.0 in /usr/local/lib/python3.10/dist-packages (from aiohttp->torch_geometric) (24.2.0)\n",
            "Requirement already satisfied: frozenlist>=1.1.1 in /usr/local/lib/python3.10/dist-packages (from aiohttp->torch_geometric) (1.5.0)\n",
            "Requirement already satisfied: multidict<7.0,>=4.5 in /usr/local/lib/python3.10/dist-packages (from aiohttp->torch_geometric) (6.1.0)\n",
            "Requirement already satisfied: propcache>=0.2.0 in /usr/local/lib/python3.10/dist-packages (from aiohttp->torch_geometric) (0.2.0)\n",
            "Requirement already satisfied: yarl<2.0,>=1.17.0 in /usr/local/lib/python3.10/dist-packages (from aiohttp->torch_geometric) (1.17.1)\n",
            "Requirement already satisfied: async-timeout<6.0,>=4.0 in /usr/local/lib/python3.10/dist-packages (from aiohttp->torch_geometric) (4.0.3)\n",
            "Requirement already satisfied: MarkupSafe>=2.0 in /usr/local/lib/python3.10/dist-packages (from jinja2->torch_geometric) (3.0.2)\n",
            "Requirement already satisfied: charset-normalizer<4,>=2 in /usr/local/lib/python3.10/dist-packages (from requests->torch_geometric) (3.4.0)\n",
            "Requirement already satisfied: idna<4,>=2.5 in /usr/local/lib/python3.10/dist-packages (from requests->torch_geometric) (3.10)\n",
            "Requirement already satisfied: urllib3<3,>=1.21.1 in /usr/local/lib/python3.10/dist-packages (from requests->torch_geometric) (2.2.3)\n",
            "Requirement already satisfied: certifi>=2017.4.17 in /usr/local/lib/python3.10/dist-packages (from requests->torch_geometric) (2024.8.30)\n",
            "Requirement already satisfied: typing-extensions>=4.1.0 in /usr/local/lib/python3.10/dist-packages (from multidict<7.0,>=4.5->aiohttp->torch_geometric) (4.12.2)\n",
            "Downloading torch_geometric-2.6.1-py3-none-any.whl (1.1 MB)\n",
            "\u001b[2K   \u001b[90m━━━━━━━━━━━━━━━━━━━━━━━━━━━━━━━━━━━━━━━━\u001b[0m \u001b[32m1.1/1.1 MB\u001b[0m \u001b[31m53.3 MB/s\u001b[0m eta \u001b[36m0:00:00\u001b[0m\n",
            "\u001b[?25hInstalling collected packages: torch_geometric\n",
            "Successfully installed torch_geometric-2.6.1\n"
          ]
        }
      ],
      "source": [
        "!pip install torch_geometric"
      ]
    },
    {
      "cell_type": "code",
      "source": [
        "import torch\n",
        "import torch.nn.functional as F\n",
        "from torch_geometric.data import Data, DataLoader\n",
        "from torch_geometric.nn import GCNConv\n",
        "import networkx as nx\n",
        "import pickle"
      ],
      "metadata": {
        "id": "T0Ych98OBX6n"
      },
      "execution_count": null,
      "outputs": []
    },
    {
      "cell_type": "code",
      "source": [
        "# Funktion, um NetworkX-Graphen in PyTorch-Geometric Data zu konvertieren\n",
        "def nx_to_pyg_data(G):\n",
        "    # Knotenfeatures und Kanten auslesen\n",
        "    x = []\n",
        "    y = []\n",
        "    edge_index = []\n",
        "\n",
        "    for node, data in G.nodes(data=True):\n",
        "        # die features\n",
        "        features = features = [\n",
        "            data.get('label', 0),\n",
        "            data.get('atomic_num', 0),\n",
        "            data.get('formal_charge', 0),\n",
        "            data.get('hybridization', 'unknown'),\n",
        "            data.get('aromatic', False),\n",
        "            data.get('num_explicit_hs', 0),\n",
        "            data.get('num_implicit_hs', 0),\n",
        "            data.get('degree', 0),\n",
        "            data.get('compound', 0.0),\n",
        "            data.get('structure', 0.0),\n",
        "            data.get('atom', 0.0),\n",
        "            data.get('shift_high-low', 0.0),\n",
        "            data.get('shift_low', 0.0),\n",
        "            data.get('CN(X)', 0.0),\n",
        "            data.get('no_CH', 0.0),\n",
        "            data.get('no_CC', 0.0),\n",
        "            data.get('no_CN', 0.0),\n",
        "            data.get('no_CO', 0.0),\n",
        "            data.get('no_CYH', 0.0),\n",
        "            data.get('no_CYC', 0.0),\n",
        "            data.get('no_CYN', 0.0),\n",
        "            data.get('no_CYO', 0.0),\n",
        "            data.get('shielding_dia', 0.0),\n",
        "            data.get('shielding_para', 0.0),\n",
        "            data.get('span', 0.0),\n",
        "            data.get('skew', 0.0),\n",
        "            data.get('asymmetry', 0.0),\n",
        "            data.get('anisotropy', 0.0),\n",
        "            data.get('at_charge_mull', 0.0),\n",
        "            data.get('at_charge_loew', 0.0),\n",
        "            data.get('orb_charge_mull_s', 0.0),\n",
        "            data.get('orb_charge_mull_p', 0.0),\n",
        "            data.get('orb_charge_mull_d', 0.0),\n",
        "            data.get('orb_stdev_mull_p', 0.0),\n",
        "            data.get('orb_charge_loew_s', 0.0),\n",
        "            data.get('orb_charge_loew_p', 0.0),\n",
        "            data.get('orb_charge_loew_d', 0.0),\n",
        "            data.get('orb_stdev_loew_p', 0.0),\n",
        "            data.get('BO_loew_sum', 0.0),\n",
        "            data.get('BO_loew_av', 0.0),\n",
        "            data.get('BO_mayer_sum', 0.0),\n",
        "            data.get('BO_mayer_av', 0.0),\n",
        "            data.get('mayer_VA', 0.0)\n",
        "        ]\n",
        "\n",
        "        x.append(features)\n",
        "\n",
        "        # Zielattribut\n",
        "        if 'shift_high-low' in data:\n",
        "            y.append(data['shift_high-low'])\n",
        "        else:\n",
        "            y.append(0)  # Wenn kein Wert vorhanden, setze auf 0 oder ignoriere den Knoten.\n",
        "\n",
        "    # Konvertiere Knotenfeatures in Tensoren\n",
        "    x = torch.tensor(x, dtype=torch.float)\n",
        "    y = torch.tensor(y, dtype=torch.float)\n",
        "\n",
        "    for edge in G.edges(data=True):\n",
        "        edge_index.append([edge[0], edge[1]])\n",
        "\n",
        "    edge_index = torch.tensor(edge_index, dtype=torch.long).t().contiguous()\n",
        "\n",
        "    # Erstelle ein PyTorch-Geometric Data Objekt\n",
        "    data = Data(x=x, edge_index=edge_index, y=y)\n",
        "    return data\n",
        "\n",
        "# Geladene Graphen in PyTorch-Geometric Data Objekte konvertieren\n",
        "graph_file = \"all_graphs.pkl\"\n",
        "with open(graph_file, 'rb') as f:\n",
        "    all_graphs = pickle.load(f)\n",
        "\n",
        "pyg_data_list = [nx_to_pyg_data(G) for G in all_graphs]\n",
        "\n",
        "# Erstelle einen DataLoader für das Training\n",
        "train_loader = DataLoader(pyg_data_list, batch_size=16, shuffle=True)\n"
      ],
      "metadata": {
        "colab": {
          "base_uri": "https://localhost:8080/"
        },
        "id": "dgq6MbEqBklq",
        "outputId": "70bf9b90-c519-4ebc-f1d7-cedd1dbb127c"
      },
      "execution_count": null,
      "outputs": [
        {
          "output_type": "stream",
          "name": "stderr",
          "text": [
            "/usr/local/lib/python3.10/dist-packages/torch_geometric/deprecation.py:26: UserWarning: 'data.DataLoader' is deprecated, use 'loader.DataLoader' instead\n",
            "  warnings.warn(out)\n"
          ]
        }
      ]
    },
    {
      "cell_type": "code",
      "source": [
        "# Definiere GNN-Modell\n",
        "class GNNModel(torch.nn.Module):\n",
        "    def __init__(self):\n",
        "        super(GNNModel, self).__init__()\n",
        "        self.conv1 = GCNConv(in_channels=3, out_channels=16)\n",
        "        self.conv2 = GCNConv(in_channels=16, out_channels=1)\n",
        "\n",
        "    def forward(self, data):\n",
        "        x, edge_index = data.x, data.edge_index\n",
        "        x = self.conv1(x, edge_index)\n",
        "        x = F.relu(x)\n",
        "        x = self.conv2(x, edge_index)\n",
        "        return x"
      ],
      "metadata": {
        "id": "N_3rQiPLBpAe"
      },
      "execution_count": null,
      "outputs": []
    },
    {
      "cell_type": "code",
      "execution_count": null,
      "metadata": {
        "id": "K-Czi5hmY1rD"
      },
      "outputs": [],
      "source": [
        "# Trainiere das Modell\n",
        "device = torch.device('cuda' if torch.cuda.is_available() else 'cpu')\n",
        "model = GNNModel().to(device)\n",
        "optimizer = torch.optim.Adam(model.parameters(), lr=0.01)\n",
        "\n",
        "model.train()\n",
        "for epoch in range(100):  # Anzahl der Epochen anpassen\n",
        "    total_loss = 0\n",
        "    for batch in train_loader:\n",
        "        batch = batch.to(device)\n",
        "        optimizer.zero_grad()\n",
        "        output = model(batch)\n",
        "        # Verwende nur die Ausgabe für Knoten, die Kohlenstoff- oder Wasserstoffatome darstellen\n",
        "        mask = (batch.x[:, 0] == 1) | (batch.x[:, 0] == 6)\n",
        "        loss = F.mse_loss(output[mask].squeeze(), batch.y[mask])\n",
        "        loss.backward()\n",
        "        optimizer.step()\n",
        "        total_loss += loss.item()\n",
        "\n",
        "    print(f'Epoch {epoch+1}, Loss: {total_loss:.4f}')\n",
        "\n",
        "# Modell speichern\n",
        "torch.save(model.state_dict(), \"gnn_model.pth\")"
      ]
    },
    {
      "cell_type": "code",
      "source": [
        "import torch\n",
        "import torch.nn.functional as F\n",
        "from torch_geometric.data import Data\n",
        "import networkx as nx\n",
        "import pandas as pd\n",
        "\n",
        "# Funktion, um einen RDKit Molekül-Graphen in einen NetworkX Graphen zu konvertieren\n",
        "def mol_to_nx(mol, properties, compound_id):\n",
        "    G = nx.Graph()\n",
        "\n",
        "    # Atome als Knoten hinzufügen\n",
        "    for atom in mol.GetAtoms():\n",
        "        atom_idx = atom.GetIdx()\n",
        "        atom_symbol = atom.GetSymbol()\n",
        "\n",
        "        # Basisattribute\n",
        "        attributes = {\n",
        "            'label': atom.GetAtomicNum(),  # Verwende Atomnummer als Knotenbeschriftung\n",
        "            'atomic_num': atom.GetAtomicNum(),\n",
        "            'symbol': atom_symbol,  # Füge das Elementsymbol hinzu, um es später leichter zu überprüfen\n",
        "            'formal_charge': atom.GetFormalCharge(),\n",
        "            'hybridization': str(atom.GetHybridization()),\n",
        "            'aromatic': atom.GetIsAromatic(),\n",
        "            'num_explicit_hs': atom.GetNumExplicitHs(),\n",
        "            'num_implicit_hs': atom.GetNumImplicitHs(),\n",
        "            'degree': atom.GetDegree()\n",
        "        }\n",
        "\n",
        "        # Zusätzliche Eigenschaften aus den Dateien hinzufügen, nur für das passende compound_id\n",
        "        props = properties[(properties['atom'] == atom_idx + 1) & (properties['compound'] == compound_id)]\n",
        "        if not props.empty:\n",
        "            attributes.update(props.iloc[0].to_dict())\n",
        "        else:\n",
        "            # Debugging-Ausgabe für den Fall, dass keine Eigenschaften gefunden werden\n",
        "            print(f\"Debugging: Keine passenden Eigenschaften gefunden für Atom {atom_symbol} mit Index {atom_idx + 1} und compound_id {compound_id}\")\n",
        "\n",
        "        G.add_node(atom_idx, **attributes)\n",
        "\n",
        "    # Bindungen als Kanten hinzufügen\n",
        "    for bond in mol.GetBonds():\n",
        "        G.add_edge(bond.GetBeginAtomIdx(),\n",
        "                   bond.GetEndAtomIdx(),\n",
        "                   bond_type=bond.GetBondType(),\n",
        "                   is_conjugated=bond.GetIsConjugated(),\n",
        "                   is_aromatic=bond.GetIsAromatic(),\n",
        "                   bond_order=bond.GetBondTypeAsDouble())\n",
        "\n",
        "    return G\n",
        "\n",
        "# Funktion, um NetworkX-Graphen in PyTorch-Geometric Data zu konvertieren\n",
        "def nx_to_pyg_data(G):\n",
        "    # Knotenfeatures und Kanten auslesen\n",
        "    x = []\n",
        "    y = []\n",
        "    edge_index = []\n",
        "\n",
        "    for node, data in G.nodes(data=True):\n",
        "        # Wähle die Features, die du verwenden möchtest (z.B. atomic_num, formal_charge, etc.)\n",
        "        features = [\n",
        "            data.get('atomic_num', 0),\n",
        "            data.get('formal_charge', 0),\n",
        "            data.get('degree', 0)\n",
        "        ]\n",
        "        x.append(features)\n",
        "\n",
        "        # Das Zielattribut (`shift_high-low`) hinzufügen, falls vorhanden\n",
        "        if 'shift_high-low' in data and not pd.isna(data['shift_high-low']):\n",
        "            y.append(data['shift_high-low'])\n",
        "        else:\n",
        "            y.append(float('nan'))  # Falls der Wert nicht vorhanden ist, NaN setzen\n",
        "\n",
        "    # Konvertiere Knotenfeatures in Tensoren\n",
        "    x = torch.tensor(x, dtype=torch.float)\n",
        "    y = torch.tensor(y, dtype=torch.float)\n",
        "\n",
        "    for edge in G.edges(data=True):\n",
        "        edge_index.append([edge[0], edge[1]])\n",
        "\n",
        "    edge_index = torch.tensor(edge_index, dtype=torch.long).t().contiguous()\n",
        "\n",
        "    # Erstelle ein PyTorch-Geometric Data Objekt\n",
        "    data = Data(x=x, edge_index=edge_index, y=y)\n",
        "    return data\n",
        "\n",
        "# Beispiel: Vorhersage für ein neues Molekül\n",
        "h_file = \"/data/ml_pbe0_pcSseg-2_h.dat\"\n",
        "c_file = \"/data/ml_pbe0_pcSseg-2_c.dat\"\n",
        "\n",
        "# Lese die Eigenschaften aus beiden Dateien ein und kombiniere sie\n",
        "h_properties, c_properties = load_properties(h_file, c_file)\n",
        "properties = pd.concat([h_properties, c_properties])\n",
        "\n",
        "# Verwende eine gültige Compound-ID (z.B. eine aus den verfügbaren `compound`-IDs)\n",
        "valid_compound_id = properties['compound'].unique()[0]\n",
        "\n",
        "new_mol_file = \"012_00.sdf\"\n",
        "new_mol = read_sdf_file(new_mol_file)[0]\n",
        "new_graph = mol_to_nx(new_mol, properties, compound_id=valid_compound_id)\n",
        "\n",
        "# Konvertiere NetworkX-Graph zu PyTorch-Geometric Data\n",
        "new_data = nx_to_pyg_data(new_graph)\n",
        "\n",
        "# Lade das trainierte Modell\n",
        "device = torch.device('cuda' if torch.cuda.is_available() else 'cpu')\n",
        "model = GNNModel().to(device)\n",
        "\n",
        "# Lade die Gewichte in den Modellzustand\n",
        "checkpoint = torch.load(\"gnn_model.pth\")\n",
        "model.load_state_dict(checkpoint)\n",
        "model.eval()\n",
        "\n",
        "# Vorhersage machen\n",
        "new_data = new_data.to(device)\n",
        "with torch.no_grad():\n",
        "    prediction = model(new_data)\n",
        "\n",
        "# Ausgabe der vorhergesagten shift_high-low Werte, Ground Truth und Element\n",
        "for idx, (pred, true) in enumerate(zip(prediction, new_data.y)):\n",
        "    # Hole das Element aus den Knotendaten im Graphen\n",
        "    element = new_graph.nodes[idx].get('symbol', None)  # Nutze 'symbol', um das Elementsymbol korrekt zu bekommen\n",
        "    element_symbol = \"Unbekannt\"  # Fallback-Wert\n",
        "\n",
        "    if element:\n",
        "        element_symbol = element\n",
        "\n",
        "    # Überprüfen, ob der Ground Truth Wert NaN ist, dann überspringen\n",
        "    if torch.isnan(true):\n",
        "        print(f\"Atom {idx} ({element_symbol}): keine Ground Truth verfügbar, vorhergesagtes shift_high-low = {pred.item()}\")\n",
        "    else:\n",
        "        print(f\"Atom {idx} ({element_symbol}): vorhergesagtes shift_high-low = {pred.item()}, Ground Truth = {true.item()}\")"
      ],
      "metadata": {
        "colab": {
          "base_uri": "https://localhost:8080/"
        },
        "id": "vZZQhu0fzY1Z",
        "outputId": "e3d9e08a-0bae-4bae-953e-756157c186b6"
      },
      "execution_count": null,
      "outputs": [
        {
          "output_type": "stream",
          "name": "stdout",
          "text": [
            "Atom 0 (C): vorhergesagtes shift_high-low = -2.882751226425171, Ground Truth = -2.1809728145599365\n",
            "Atom 1 (N): vorhergesagtes shift_high-low = -3.8705499172210693, Ground Truth = -16.9322566986084\n",
            "Atom 2 (C): vorhergesagtes shift_high-low = -3.2838070392608643, Ground Truth = -0.17985659837722778\n",
            "Atom 3 (C): vorhergesagtes shift_high-low = -2.8302741050720215, Ground Truth = -0.14272424578666687\n",
            "Atom 4 (N): vorhergesagtes shift_high-low = -4.03288459777832, Ground Truth = -0.18340036273002625\n"
          ]
        },
        {
          "output_type": "stream",
          "name": "stderr",
          "text": [
            "<ipython-input-38-db4bffb5be05>:108: FutureWarning: You are using `torch.load` with `weights_only=False` (the current default value), which uses the default pickle module implicitly. It is possible to construct malicious pickle data which will execute arbitrary code during unpickling (See https://github.com/pytorch/pytorch/blob/main/SECURITY.md#untrusted-models for more details). In a future release, the default value for `weights_only` will be flipped to `True`. This limits the functions that could be executed during unpickling. Arbitrary objects will no longer be allowed to be loaded via this mode unless they are explicitly allowlisted by the user via `torch.serialization.add_safe_globals`. We recommend you start setting `weights_only=True` for any use case where you don't have full control of the loaded file. Please open an issue on GitHub for any issues related to this experimental feature.\n",
            "  checkpoint = torch.load(\"gnn_model.pth\")\n"
          ]
        }
      ]
    }
  ]
}